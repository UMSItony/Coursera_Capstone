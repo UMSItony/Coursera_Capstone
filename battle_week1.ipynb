{
 "cells": [
  {
   "cell_type": "markdown",
   "metadata": {},
   "source": [
    "# Capstone Project - The Battle of Neighborhoods"
   ]
  },
  {
   "cell_type": "markdown",
   "metadata": {},
   "source": [
    "## Week 1"
   ]
  },
  {
   "cell_type": "markdown",
   "metadata": {},
   "source": [
    "***"
   ]
  },
  {
   "cell_type": "markdown",
   "metadata": {},
   "source": [
    "### Minority-owned small business relief"
   ]
  },
  {
   "cell_type": "markdown",
   "metadata": {},
   "source": [
    "Prepared by: Tony Purkal"
   ]
  },
  {
   "cell_type": "markdown",
   "metadata": {},
   "source": [
    "***"
   ]
  },
  {
   "cell_type": "markdown",
   "metadata": {},
   "source": [
    "#### Introduction"
   ]
  },
  {
   "cell_type": "markdown",
   "metadata": {},
   "source": [
    "My final project focuses on choosing a minority-owned or minority-serving small businesses for relief from COVID-19 shutdowns and looting of communities that continue to tear down black communities in New York City. With over 200,000 COVID-19 cases in New York according to [Wikipedia](https://en.wikipedia.org/wiki/COVID-19_pandemic_in_New_York_(state)), the most at-risk residents also live in areas prone to being food deserts and are increasingly relying on neighborhood institutions with established presence in the community for not only sustenance, but as a necessary resource for community economic vitality. Providing opportunities for others to step outside their comfort zone and explore new communities and cultures often involves sharing appealing cuisines at thriving neighborhood restaurants. This exploration will identify which neighborhoods and boroughs have the most opportunity for leveraging the unifying cultural relevance of soul food.\n",
    "\n",
    "Specifically, this analysis will identify:\n",
    "\n",
    "1. Which specific restaurants would produce the most impact with a community grant?\n",
    "\n",
    "2. Where do I go in New York if I want a culturally-relevant immersive experience while patronizing a minority-owned or minority-serving establishment?"
   ]
  },
  {
   "cell_type": "markdown",
   "metadata": {},
   "source": [
    "#### Data"
   ]
  },
  {
   "cell_type": "markdown",
   "metadata": {},
   "source": [
    "To answer these questions, we will need geolocation data about New York boroughs and neighborhoods as well as crowd-sourced data about restaurant engagement with specific communities.\n",
    "\n",
    "To access crowd-sourced data about restaurants, their addresses will need to be converted into latitude and longitude geolocation information. To classify this data, we will also need geolocation data that defines boundaries of boroughs and neighborhoods. This data is available freely online at:\n",
    "https://cocl.us/new_york_dataset\n",
    "\n",
    "With the geolocation data paired to the restaurants in specific boroughs and neighborhoods, the Foursquare API will allow us to explore each locality and the prevalence of soul food restaurants in the community as well as crowd-sourced ratings and reviews. The Python Request library will be used to explore the API for the boroughs and neighborhoods with the most and best soul food restaurants. Information about the data from the Foursquare API can be found at:\n",
    "https://developer.foursquare.com/"
   ]
  }
 ],
 "metadata": {
  "kernelspec": {
   "display_name": "Python 3",
   "language": "python",
   "name": "python3"
  },
  "language_info": {
   "codemirror_mode": {
    "name": "ipython",
    "version": 3
   },
   "file_extension": ".py",
   "mimetype": "text/x-python",
   "name": "python",
   "nbconvert_exporter": "python",
   "pygments_lexer": "ipython3",
   "version": "3.7.4"
  }
 },
 "nbformat": 4,
 "nbformat_minor": 2
}
